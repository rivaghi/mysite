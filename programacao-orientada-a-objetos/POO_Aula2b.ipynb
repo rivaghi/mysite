{
  "nbformat": 4,
  "nbformat_minor": 0,
  "metadata": {
    "colab": {
      "provenance": [],
      "toc_visible": true,
      "include_colab_link": true
    },
    "kernelspec": {
      "name": "python3",
      "display_name": "Python 3"
    },
    "language_info": {
      "name": "python"
    }
  },
  "cells": [
    {
      "cell_type": "markdown",
      "metadata": {
        "id": "view-in-github",
        "colab_type": "text"
      },
      "source": [
        "<a href=\"https://colab.research.google.com/github/rivaghi/mysite/blob/main/programacao-orientada-a-objetos/POO_Aula2b.ipynb\" target=\"_parent\"><img src=\"https://colab.research.google.com/assets/colab-badge.svg\" alt=\"Open In Colab\"/></a>"
      ]
    },
    {
      "cell_type": "markdown",
      "source": [
        "# Programação Orientada a Objetos - Prof. Tatiana Escovedo\n",
        "\n",
        "---\n",
        "\n",
        "## Aula 02: Os 4 pilares da Orientação a Objetos\n",
        "### Prática 4: Orientação a Objetos"
      ],
      "metadata": {
        "id": "nPMIS6Pb98p9"
      }
    },
    {
      "cell_type": "markdown",
      "source": [
        "## Introdução à Orientação a Objetos"
      ],
      "metadata": {
        "id": "jyZvpuhTUcX7"
      }
    },
    {
      "cell_type": "code",
      "source": [
        "class Pessoa:\n",
        "\n",
        "    def __init__(self, nome):\n",
        "        self.nome = nome\n",
        "\n",
        "    def __str__(self):\n",
        "        return self.nome\n",
        "\n",
        "pessoa_1 = Pessoa(\"João\")\n",
        "print(pessoa_1)\n",
        "\n",
        "pessoa_2 = Pessoa(\"Maria\")\n",
        "print(pessoa_2)"
      ],
      "metadata": {
        "id": "cDx4AzqGUcyW"
      },
      "execution_count": null,
      "outputs": []
    },
    {
      "cell_type": "code",
      "source": [
        "class ListaDeNumeros:\n",
        "\n",
        "    def __init__(self, numeros):\n",
        "        self.numeros = numeros\n",
        "\n",
        "    def __str__(self):\n",
        "        return \", \".join([str(n) for n in self.numeros])\n",
        "\n",
        "    def soma(self):\n",
        "        return sum(self.numeros)\n",
        "\n",
        "    def media(self):\n",
        "        return self.soma()/len(self.numeros)\n",
        "\n",
        "minha_lista = ListaDeNumeros([1,3,5,7,9])\n",
        "\n",
        "print(f\"A soma de {minha_lista} é {minha_lista.soma()}\")\n",
        "print(f\"A média de {minha_lista} é {minha_lista.media()}\")"
      ],
      "metadata": {
        "id": "qAuW_SfsUjfN"
      },
      "execution_count": null,
      "outputs": []
    },
    {
      "cell_type": "code",
      "source": [
        "class Pessoa:\n",
        "\n",
        "    num_pessoas = 0\n",
        "\n",
        "    def __init__(self, nome):\n",
        "        self.nome = nome\n",
        "        Pessoa.num_pessoas +=1\n",
        "\n",
        "nomes = ['João', 'Paulo', 'George', 'Ringo']\n",
        "pessoas = [Pessoa(nome) for nome in nomes]\n",
        "\n",
        "Pessoa.num_pessoas\n",
        "\n",
        "pessoas[0].nome"
      ],
      "metadata": {
        "id": "ZjQRVzAOUmRy"
      },
      "execution_count": null,
      "outputs": []
    },
    {
      "cell_type": "code",
      "source": [
        "class Calculadora:\n",
        "\n",
        "    def soma(self, a, b):\n",
        "        res = a + b\n",
        "        return res\n",
        "\n",
        "calculadora = Calculadora()\n",
        "calculadora.soma(2,3)"
      ],
      "metadata": {
        "id": "nQNEuCapUo3-"
      },
      "execution_count": null,
      "outputs": []
    },
    {
      "cell_type": "markdown",
      "source": [
        "## Encapsulamento"
      ],
      "metadata": {
        "id": "YfeMVy_-u45n"
      }
    },
    {
      "cell_type": "code",
      "execution_count": null,
      "metadata": {
        "id": "ttI8wa_ys9pF"
      },
      "outputs": [],
      "source": [
        "class Conta:\n",
        "\n",
        "    def __init__(self, numero, saldo):\n",
        "        self.numero = numero\n",
        "        self.__saldo = saldo\n",
        "\n",
        "conta1234 = Conta(1234, 750.84)\n",
        "conta1234.numero"
      ]
    },
    {
      "cell_type": "code",
      "source": [
        "conta1234.__saldo"
      ],
      "metadata": {
        "id": "VtO6GDl4tgVv"
      },
      "execution_count": null,
      "outputs": []
    },
    {
      "cell_type": "code",
      "source": [
        "conta1234._Conta__saldo"
      ],
      "metadata": {
        "id": "fFhQ25KZtjpa"
      },
      "execution_count": null,
      "outputs": []
    },
    {
      "cell_type": "code",
      "source": [
        "dir(conta1234)"
      ],
      "metadata": {
        "id": "YorKSJWntoXr"
      },
      "execution_count": null,
      "outputs": []
    },
    {
      "cell_type": "code",
      "source": [
        "conta1234.__saldo = 1000"
      ],
      "metadata": {
        "id": "EEV6b-z0tsPN"
      },
      "execution_count": null,
      "outputs": []
    },
    {
      "cell_type": "code",
      "source": [
        "conta1234._Conta__saldo"
      ],
      "metadata": {
        "id": "3kCOOiaEtucG"
      },
      "execution_count": null,
      "outputs": []
    },
    {
      "cell_type": "code",
      "source": [
        "dir(conta1234)"
      ],
      "metadata": {
        "id": "yl0aAaJZtxOv"
      },
      "execution_count": null,
      "outputs": []
    },
    {
      "cell_type": "code",
      "source": [
        "class Conta:\n",
        "\n",
        "    def __init__(self, numero, saldo):\n",
        "        self.__numero = numero\n",
        "        self.__saldo = saldo\n",
        "\n",
        "    def consulta_saldo(self):\n",
        "        return self.__saldo\n",
        "\n",
        "conta1234 = Conta(1234, 750.84)\n",
        "conta1234.consulta_saldo()"
      ],
      "metadata": {
        "id": "4n21jdWjt7lA"
      },
      "execution_count": null,
      "outputs": []
    },
    {
      "cell_type": "markdown",
      "source": [
        "## Herança"
      ],
      "metadata": {
        "id": "EDgokm7Iuz9r"
      }
    },
    {
      "cell_type": "code",
      "source": [
        "# Classe Pessoa\n",
        "class Pessoa:\n",
        "\n",
        "    def __init__(self, nome, login, senha):\n",
        "        self.__nome = nome\n",
        "        self.__login = login\n",
        "        self.__senha = senha\n",
        "\n",
        "    def consulta_nome(self):\n",
        "        return self.__nome\n",
        "\n",
        "# Classe Aluno\n",
        "class Aluno(Pessoa):\n",
        "\n",
        "    def __init__(self, nome, login, senha, curso):\n",
        "        Pessoa.__init__(self, nome, login, senha)\n",
        "        self.__curso = curso\n",
        "\n",
        "    def consulta_curso(self):\n",
        "        return self.__curso\n",
        "\n",
        "# Classe Professor\n",
        "class Professor(Pessoa):\n",
        "\n",
        "    def __init__(self, nome, login, senha, titulacao):\n",
        "        Pessoa.__init__(self, nome, login, senha)\n",
        "        self.__titulacao = titulacao\n",
        "\n",
        "    def consulta_titulacao(self):\n",
        "        return self.__titulacao"
      ],
      "metadata": {
        "id": "SDMJT6CzuzGn"
      },
      "execution_count": null,
      "outputs": []
    },
    {
      "cell_type": "code",
      "source": [
        "pessoa1 = Pessoa('Maria', 'mary', 'm123')\n",
        "print(pessoa1.consulta_nome())\n",
        "\n",
        "aluna1 = Aluno('Viviane', 'vivi', 'v123', 'Informática')\n",
        "print(aluna1.consulta_nome())\n",
        "print(aluna1.consulta_curso())\n",
        "\n",
        "prof1 = Professor('Tatiana', 'tati', 't123', 'Doutorado')\n",
        "print(prof1.consulta_nome())\n",
        "print(prof1.consulta_titulacao())"
      ],
      "metadata": {
        "id": "uyI37OpHvTDH"
      },
      "execution_count": null,
      "outputs": []
    },
    {
      "cell_type": "markdown",
      "source": [
        "## Polimorfismo"
      ],
      "metadata": {
        "id": "47lxBkR3wGIH"
      }
    },
    {
      "cell_type": "code",
      "source": [
        "class EntradaUniversidade:\n",
        "\n",
        "    def __init__(self):\n",
        "        pass\n",
        "\n",
        "    def permite_entrada(self, pessoa):\n",
        "        print(\"Pode entrar, \" + pessoa.consulta_nome())\n",
        "\n",
        "entrada = EntradaUniversidade()\n",
        "entrada.permite_entrada(prof1)"
      ],
      "metadata": {
        "id": "zxmVKF3KwHua"
      },
      "execution_count": null,
      "outputs": []
    },
    {
      "cell_type": "code",
      "source": [
        "# Classe Coordenador\n",
        "class Coordenador(Pessoa):\n",
        "    def __init__(self, nome, login, senha):\n",
        "        Pessoa.__init__(self, nome, login, senha)\n",
        "\n",
        "coord1 = Coordenador('Marcos', 'mk', 'm123')\n",
        "entrada.permite_entrada(coord1)"
      ],
      "metadata": {
        "id": "LvfgwoEIwdhb"
      },
      "execution_count": null,
      "outputs": []
    },
    {
      "cell_type": "markdown",
      "source": [
        "## Abstração"
      ],
      "metadata": {
        "id": "E-lratgzyBTy"
      }
    },
    {
      "cell_type": "code",
      "source": [
        "import abc\n",
        "\n",
        "class Pessoa(abc.ABC):\n",
        "\n",
        "    def __init__(self, nome, login, senha):\n",
        "        self.nome = nome\n",
        "        self.login = login\n",
        "        self.senha = senha\n",
        "\n",
        "    @abc.abstractmethod\n",
        "    def consulta_nome(self):\n",
        "        raise NotImplementedError()"
      ],
      "metadata": {
        "id": "tgXHAVGFyBbV"
      },
      "execution_count": null,
      "outputs": []
    },
    {
      "cell_type": "code",
      "source": [
        "pessoa1 = Pessoa()"
      ],
      "metadata": {
        "id": "MChVWhgfyGK2"
      },
      "execution_count": null,
      "outputs": []
    },
    {
      "cell_type": "markdown",
      "source": [
        "## Associação, Agregação e Composição"
      ],
      "metadata": {
        "id": "87vKonSmyJ2E"
      }
    },
    {
      "cell_type": "code",
      "source": [
        "class Aluno(Pessoa):\n",
        "\n",
        "    def __init__(self, nome, login, senha, curso, orientador):\n",
        "        Pessoa.__init__(self, nome, login, senha)\n",
        "        self.__curso = curso\n",
        "        self.__orientador = orientador\n",
        "\n",
        "    def consulta_curso(self):\n",
        "        return self.__curso\n",
        "\n",
        "    def consulta_orientador(self):\n",
        "        return self.__orientador\n",
        "\n",
        "    def consulta_nome(self):\n",
        "        return self.nome"
      ],
      "metadata": {
        "id": "mXI6wibJyJ8l"
      },
      "execution_count": null,
      "outputs": []
    },
    {
      "cell_type": "code",
      "source": [
        "professorMarcos = Professor('Marcos', 'mk', 'm123', 'Doutor')\n",
        "\n",
        "novoAluno = Aluno('Isabela', 'isa', 'i123', 'Engenharia', professorMarcos)"
      ],
      "metadata": {
        "id": "HxPambyVyPUA"
      },
      "execution_count": null,
      "outputs": []
    },
    {
      "cell_type": "code",
      "source": [
        "import datetime\n",
        "\n",
        "class Historico():\n",
        "\n",
        "    def __init__(self):\n",
        "        self.__data_matricula = datetime.datetime.today()\n",
        "        self.__ocorrencias = []\n",
        "\n",
        "    def imprime(self):\n",
        "        print(\"Matriculado em {}\".format(self.__data_matricula))\n",
        "        print(\"Ocorrências:\")\n",
        "        for o in self.__ocorrencias:\n",
        "            print(\"- \", o)\n",
        "\n",
        "    def add_ocorrencia(self, ocorrencia):\n",
        "        self.__ocorrencias.append(ocorrencia)"
      ],
      "metadata": {
        "id": "jUQeOllYydyu"
      },
      "execution_count": null,
      "outputs": []
    },
    {
      "cell_type": "code",
      "source": [
        "class Aluno(Pessoa):\n",
        "\n",
        "    def __init__(self, nome, login, senha, curso, orientador):\n",
        "        Pessoa.__init__(self, nome, login, senha)\n",
        "        self.__curso = curso\n",
        "        self.__orientador = orientador\n",
        "        self.__historico = Historico()\n",
        "\n",
        "    def consulta_curso(self):\n",
        "        return self.__curso\n",
        "\n",
        "    def consulta_orientador(self):\n",
        "        return self.__orientador\n",
        "\n",
        "    def consulta_nome(self):\n",
        "        return self.__nome\n",
        "\n",
        "    def gera_ocorrencia(self, ocorrencia):\n",
        "        self.__historico.add_ocorrencia(ocorrencia)\n",
        "\n",
        "    def consulta_historico(self):\n",
        "        self.__historico.imprime()"
      ],
      "metadata": {
        "id": "CSZRYxDHyzAS"
      },
      "execution_count": null,
      "outputs": []
    },
    {
      "cell_type": "code",
      "source": [
        "novoAluno = Aluno('Isabela', 'isa', 'i123', 'Engenharia', professorMarcos)\n",
        "novoAluno.gera_ocorrencia(\"Matriculou-se em Calculo 1\")\n",
        "novoAluno.gera_ocorrencia(\"Nota final de Calculo 1: 9,7\")\n",
        "novoAluno.consulta_historico()"
      ],
      "metadata": {
        "id": "E32xMVEDzLER"
      },
      "execution_count": null,
      "outputs": []
    }
  ]
}